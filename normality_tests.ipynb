{
 "cells": [
  {
   "cell_type": "code",
   "execution_count": 1,
   "id": "a552be16-5652-4a6b-a408-95337e56abd2",
   "metadata": {},
   "outputs": [],
   "source": [
    "import numpy as np\n",
    "import scipy.stats as stats\n",
    "import statsmodels.api as sm\n",
    "\n",
    "from tqdm import tqdm"
   ]
  },
  {
   "cell_type": "code",
   "execution_count": 2,
   "id": "a96258da-9731-466b-981c-f2b49b28e2cc",
   "metadata": {},
   "outputs": [],
   "source": [
    "# исходные данные\n",
    "mu = 0.3\n",
    "sigma = 5\n",
    "\n",
    "num_tests = 10**3\n",
    "alpha = 0.05"
   ]
  },
  {
   "cell_type": "markdown",
   "id": "cb632d9b-be3d-4435-997f-dc2f76ac83ed",
   "metadata": {},
   "source": [
    "#### Тест Колмогорова-Смирнова"
   ]
  },
  {
   "cell_type": "code",
   "execution_count": 3,
   "id": "70c215c4-8b26-4552-84a7-4fb09d6ec518",
   "metadata": {},
   "outputs": [
    {
     "name": "stderr",
     "output_type": "stream",
     "text": [
      "100%|█████████████████████████████████████████████████████████████████████████████| 1000/1000 [00:02<00:00, 468.07it/s]"
     ]
    },
    {
     "name": "stdout",
     "output_type": "stream",
     "text": [
      "52/1000 = 0.05 rejects at rejection level 0.05\n"
     ]
    },
    {
     "name": "stderr",
     "output_type": "stream",
     "text": [
      "\n"
     ]
    }
   ],
   "source": [
    "num_rejects = 0\n",
    "\n",
    "for i in tqdm(range(num_tests)):\n",
    "    data = np.random.normal(mu, sigma, 10000)\n",
    "    normed_data = (data - mu) / sigma\n",
    "    D, pval = stats.kstest(normed_data, 'norm')\n",
    "    if pval < alpha:\n",
    "        num_rejects += 1\n",
    "\n",
    "ratio = float(num_rejects) / num_tests\n",
    "print('{}/{} = {:.2f} rejects at rejection level {}'.format(num_rejects, num_tests, ratio, alpha))"
   ]
  },
  {
   "cell_type": "markdown",
   "id": "0820c97b-3635-4f53-8e24-ebffa33a21c7",
   "metadata": {},
   "source": [
    "#### Критерий Андерсона-Дарлинга"
   ]
  },
  {
   "cell_type": "code",
   "execution_count": 4,
   "id": "dd859245-3579-4cff-abd5-48586abc6b5d",
   "metadata": {},
   "outputs": [
    {
     "name": "stderr",
     "output_type": "stream",
     "text": [
      "100%|█████████████████████████████████████████████████████████████████████████████| 1000/1000 [00:01<00:00, 637.12it/s]"
     ]
    },
    {
     "name": "stdout",
     "output_type": "stream",
     "text": [
      "49/1000 = 0.05 rejects at rejection level 0.05\n"
     ]
    },
    {
     "name": "stderr",
     "output_type": "stream",
     "text": [
      "\n"
     ]
    }
   ],
   "source": [
    "num_rejects = 0\n",
    "\n",
    "for i in tqdm(range(num_tests)):\n",
    "    data = np.random.normal(mu, sigma, 10000)\n",
    "    normed_data = (data - mu) / sigma\n",
    "    D, pval = sm.stats.normal_ad(normed_data)\n",
    "    if pval < alpha:\n",
    "        num_rejects += 1\n",
    "\n",
    "ratio = float(num_rejects) / num_tests\n",
    "print('{}/{} = {:.2f} rejects at rejection level {}'.format(num_rejects, num_tests, ratio, alpha))"
   ]
  },
  {
   "cell_type": "markdown",
   "id": "2d30d8c1-57bd-4f43-80d8-723075f78d81",
   "metadata": {},
   "source": [
    "#### Критерий Шапиро-Уилка"
   ]
  },
  {
   "cell_type": "code",
   "execution_count": 5,
   "id": "2dcc9ab3-5efc-4581-989e-dda95745dab7",
   "metadata": {},
   "outputs": [
    {
     "name": "stderr",
     "output_type": "stream",
     "text": [
      "  0%|                                                                                         | 0/1000 [00:00<?, ?it/s]C:\\Anaconda3\\lib\\site-packages\\scipy\\stats\\morestats.py:1681: UserWarning: p-value may not be accurate for N > 5000.\n",
      "  warnings.warn(\"p-value may not be accurate for N > 5000.\")\n",
      "100%|████████████████████████████████████████████████████████████████████████████| 1000/1000 [00:00<00:00, 1088.31it/s]"
     ]
    },
    {
     "name": "stdout",
     "output_type": "stream",
     "text": [
      "25/1000 = 0.03 rejects at rejection level 0.05\n"
     ]
    },
    {
     "name": "stderr",
     "output_type": "stream",
     "text": [
      "\n"
     ]
    }
   ],
   "source": [
    "num_rejects = 0\n",
    "\n",
    "for i in tqdm(range(num_tests)):\n",
    "    data = np.random.normal(mu, sigma, 10000)\n",
    "    normed_data = (data - mu) / sigma\n",
    "    D, pval = stats.shapiro(normed_data)\n",
    "    if pval < alpha:\n",
    "        num_rejects += 1\n",
    "\n",
    "ratio = float(num_rejects) / num_tests\n",
    "print('{}/{} = {:.2f} rejects at rejection level {}'.format(num_rejects, num_tests, ratio, alpha))"
   ]
  }
 ],
 "metadata": {
  "kernelspec": {
   "display_name": "Python 3",
   "language": "python",
   "name": "python3"
  },
  "language_info": {
   "codemirror_mode": {
    "name": "ipython",
    "version": 3
   },
   "file_extension": ".py",
   "mimetype": "text/x-python",
   "name": "python",
   "nbconvert_exporter": "python",
   "pygments_lexer": "ipython3",
   "version": "3.8.8"
  }
 },
 "nbformat": 4,
 "nbformat_minor": 5
}
