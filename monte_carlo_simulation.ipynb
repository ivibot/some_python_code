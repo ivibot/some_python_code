{
 "cells": [
  {
   "cell_type": "code",
   "execution_count": 1,
   "id": "5b2f1be3-6f07-4a86-9f69-9613fbe9b706",
   "metadata": {},
   "outputs": [],
   "source": [
    "import numpy as np\n",
    "import pandas as pd\n",
    "\n",
    "import seaborn as sns\n",
    "\n",
    "from tqdm import tqdm"
   ]
  },
  {
   "cell_type": "code",
   "execution_count": 2,
   "id": "4e67d7ad-7bef-48b1-87bd-54e3f15cde06",
   "metadata": {},
   "outputs": [],
   "source": [
    "sns.set_style('whitegrid')"
   ]
  },
  {
   "cell_type": "code",
   "execution_count": 3,
   "id": "0ae722e1-8bd3-4089-bf55-79ab1deeb735",
   "metadata": {},
   "outputs": [],
   "source": [
    "# параметры расчёта\n",
    "accepted = 1000000 # сумма принятх заказов за месяц\n",
    "executed = 0.9700 # средняя исполняемость в процентах от принятых\n",
    "margin = 0.4200 # средняя наценка\n",
    "\n",
    "# количество менеджеров\n",
    "managers_min = 2 # минимум\n",
    "managers_max = 4 # максимум\n",
    "managers_step = 1 # шаг изменения\n",
    "\n",
    "# зарплата одного менеджера\n",
    "salary_min = 50000 # минимум\n",
    "salary_max = 80000 # максиимум\n",
    "salary_step = 5000 # шаг изменения\n",
    "\n",
    "# площадь розничной точки\n",
    "square_min = 80 # минимум\n",
    "square_max = 110 # максиимум\n",
    "square_step = 1 # шаг изменения\n",
    "\n",
    "# цена за квадратный метр\n",
    "square_price_min = 800 # минимум\n",
    "square_price_max = 1600 # максиимум\n",
    "square_price_step = 50 # шаг изменения"
   ]
  },
  {
   "cell_type": "code",
   "execution_count": 4,
   "id": "b7ab88c5-56be-4e1f-9bb4-e563b9e8b7ac",
   "metadata": {},
   "outputs": [
    {
     "name": "stderr",
     "output_type": "stream",
     "text": [
      "100%|██████████████████████████████████████████████████████████████████████████| 100000/100000 [27:51<00:00, 59.84it/s]\n"
     ]
    }
   ],
   "source": [
    "df = pd.DataFrame()\n",
    "\n",
    "# интервалы для подбора параметров\n",
    "managers_range = range(managers_min, managers_max+1, managers_step)\n",
    "salary_range = range(salary_min, salary_max+1, salary_step)\n",
    "square_range = range(square_min, square_max+1, square_step)\n",
    "square_price_range = range(square_price_min, square_price_max+1, square_price_step)\n",
    "\n",
    "for i in tqdm(range(100000)):\n",
    "    # определение параметров расчёта\n",
    "    p_executed = 1\n",
    "    while p_executed > 0.99:\n",
    "        p_executed = np.round(np.random.normal(executed, 0.0199 / 5, 1)[0], decimals=4)\n",
    "    p_margin = 1\n",
    "    while p_margin > margin + 0.0199 * 5:\n",
    "        p_margin = np.round(np.random.normal(margin, 0.0199 / 5, 1)[0], decimals=4)\n",
    "    p_managers = np.random.choice(managers_range)\n",
    "    p_salary = np.random.choice(salary_range)\n",
    "    p_square = np.random.choice(square_range)\n",
    "    p_square_price = np.random.choice(square_price_range)\n",
    "\n",
    "    # расчёт прибыли с округлением до рубля\n",
    "    profit = \\\n",
    "        accepted * p_executed * p_margin / (1 + p_margin) - \\\n",
    "        p_managers * p_salary - \\\n",
    "        p_square * p_square_price\n",
    "\n",
    "    profit = np.round(profit, decimals=0)\n",
    "    df = df.append({'accepted': accepted,\n",
    "                    'executed': p_executed,\n",
    "                    'margin': p_margin,\n",
    "                    'managers': p_managers,\n",
    "                    'salary': p_salary,\n",
    "                    'square': p_square,\n",
    "                    'square_price': p_square_price,\n",
    "                    'profit': profit}, \n",
    "                   ignore_index=True)\n",
    "    \n",
    "    df['result'] = np.where(df['profit'] > 0, 'прибыль', \n",
    "                            np.where(df['profit'] < 0, 'убыток', 'ноль'))\n",
    "\n",
    "df = df[['accepted', 'executed', 'margin', 'managers', 'salary', 'square', 'square_price', 'profit', 'result']]"
   ]
  },
  {
   "cell_type": "code",
   "execution_count": 5,
   "id": "3c666829-69e0-4d8d-8136-246beda41130",
   "metadata": {},
   "outputs": [
    {
     "data": {
      "text/plain": [
       "убыток     59.297\n",
       "прибыль    40.703\n",
       "Name: result, dtype: float64"
      ]
     },
     "execution_count": 5,
     "metadata": {},
     "output_type": "execute_result"
    }
   ],
   "source": [
    "df['result'].value_counts(normalize=True) * 100"
   ]
  },
  {
   "cell_type": "code",
   "execution_count": 6,
   "id": "c9ec1507-5493-42f9-bf0b-8b146e10c821",
   "metadata": {},
   "outputs": [
    {
     "data": {
      "text/plain": [
       "count    100000.000000\n",
       "mean     -22356.096990\n",
       "std       66720.688513\n",
       "min     -213096.000000\n",
       "5%      -140034.200000\n",
       "10%     -116272.200000\n",
       "15%      -98037.000000\n",
       "20%      -83025.200000\n",
       "25%      -69792.000000\n",
       "30%      -58233.600000\n",
       "35%      -47057.050000\n",
       "40%      -36905.400000\n",
       "45%      -26979.450000\n",
       "50%      -17561.000000\n",
       "55%       -8061.000000\n",
       "60%        1243.000000\n",
       "65%       10548.100000\n",
       "70%       20252.900000\n",
       "75%       30085.250000\n",
       "80%       39983.600000\n",
       "85%       49943.300000\n",
       "90%       61536.100000\n",
       "95%       78385.100000\n",
       "max      127161.000000\n",
       "Name: profit, dtype: float64"
      ]
     },
     "execution_count": 6,
     "metadata": {},
     "output_type": "execute_result"
    }
   ],
   "source": [
    "df['profit'].describe(percentiles=np.linspace(5, 95, 19) / 100)"
   ]
  },
  {
   "cell_type": "code",
   "execution_count": 7,
   "id": "b4a7437f-5eb4-44af-a7b3-a9e7a1c5c635",
   "metadata": {},
   "outputs": [
    {
     "data": {
      "image/png": "[encoded data removed]",
      "text/plain": [
       "<Figure size 432x288 with 1 Axes>"
      ]
     },
     "metadata": {},
     "output_type": "display_data"
    }
   ],
   "source": [
    "sns.histplot(df['profit'], stat='probability', binwidth=10000);"
   ]
  },
  {
   "cell_type": "code",
   "execution_count": 8,
   "id": "eddec267-deb9-4d38-91f0-f7f45530b36f",
   "metadata": {},
   "outputs": [],
   "source": [
    "# добавляем столбец группировки по прибыле\n",
    "freq = 10000\n",
    "interval_range = pd.interval_range(start=np.floor(df['profit'].min() / freq) * freq,\n",
    "                                   end=np.ceil(df['profit'].max() / freq) * freq,\n",
    "                                   freq=freq,\n",
    "                                   closed='left')\n",
    "df['profit_interval'] = pd.cut(df['profit'], bins=interval_range)"
   ]
  },
  {
   "cell_type": "code",
   "execution_count": 9,
   "id": "024ffada-f8e3-41f4-8c49-1b625510bc52",
   "metadata": {},
   "outputs": [
    {
     "data": {
      "text/plain": [
       "[0.0, 10000.0)          0.05444\n",
       "[-10000.0, 0.0)         0.05359\n",
       "[-20000.0, -10000.0)    0.05269\n",
       "[-30000.0, -20000.0)    0.05184\n",
       "[10000.0, 20000.0)      0.05135\n",
       "[20000.0, 30000.0)      0.05086\n",
       "[30000.0, 40000.0)      0.05046\n",
       "[40000.0, 50000.0)      0.05016\n",
       "[-40000.0, -30000.0)    0.04988\n",
       "[-50000.0, -40000.0)    0.04808\n",
       "Name: profit_interval, dtype: float64"
      ]
     },
     "execution_count": 9,
     "metadata": {},
     "output_type": "execute_result"
    }
   ],
   "source": [
    "df['profit_interval'].value_counts(normalize=True).iloc[:10]"
   ]
  },
  {
   "cell_type": "code",
   "execution_count": 10,
   "id": "178c9d03-ea00-434b-b03e-6869ab758088",
   "metadata": {},
   "outputs": [
    {
     "data": {
      "text/html": [
       "<div>\n",
       "<style scoped>\n",
       "    .dataframe tbody tr th:only-of-type {\n",
       "        vertical-align: middle;\n",
       "    }\n",
       "\n",
       "    .dataframe tbody tr th {\n",
       "        vertical-align: top;\n",
       "    }\n",
       "\n",
       "    .dataframe thead th {\n",
       "        text-align: right;\n",
       "    }\n",
       "</style>\n",
       "<table border=\"1\" class=\"dataframe\">\n",
       "  <thead>\n",
       "    <tr style=\"text-align: right;\">\n",
       "      <th></th>\n",
       "      <th>accepted</th>\n",
       "      <th>executed</th>\n",
       "      <th>margin</th>\n",
       "      <th>managers</th>\n",
       "      <th>salary</th>\n",
       "      <th>square</th>\n",
       "      <th>square_price</th>\n",
       "      <th>profit</th>\n",
       "    </tr>\n",
       "  </thead>\n",
       "  <tbody>\n",
       "    <tr>\n",
       "      <th>count</th>\n",
       "      <td>14976.0</td>\n",
       "      <td>14976.000000</td>\n",
       "      <td>14976.000000</td>\n",
       "      <td>14976.000000</td>\n",
       "      <td>14976.000000</td>\n",
       "      <td>14976.000000</td>\n",
       "      <td>14976.000000</td>\n",
       "      <td>14976.000000</td>\n",
       "    </tr>\n",
       "    <tr>\n",
       "      <th>mean</th>\n",
       "      <td>1000000.0</td>\n",
       "      <td>0.970233</td>\n",
       "      <td>0.420236</td>\n",
       "      <td>2.063168</td>\n",
       "      <td>58765.691774</td>\n",
       "      <td>92.328926</td>\n",
       "      <td>1020.569578</td>\n",
       "      <td>72465.715345</td>\n",
       "    </tr>\n",
       "    <tr>\n",
       "      <th>std</th>\n",
       "      <td>0.0</td>\n",
       "      <td>0.004032</td>\n",
       "      <td>0.003963</td>\n",
       "      <td>0.243273</td>\n",
       "      <td>8282.002985</td>\n",
       "      <td>8.677212</td>\n",
       "      <td>187.251635</td>\n",
       "      <td>16787.967084</td>\n",
       "    </tr>\n",
       "    <tr>\n",
       "      <th>min</th>\n",
       "      <td>1000000.0</td>\n",
       "      <td>0.954700</td>\n",
       "      <td>0.404200</td>\n",
       "      <td>2.000000</td>\n",
       "      <td>50000.000000</td>\n",
       "      <td>80.000000</td>\n",
       "      <td>800.000000</td>\n",
       "      <td>50001.000000</td>\n",
       "    </tr>\n",
       "    <tr>\n",
       "      <th>25%</th>\n",
       "      <td>1000000.0</td>\n",
       "      <td>0.967500</td>\n",
       "      <td>0.417600</td>\n",
       "      <td>2.000000</td>\n",
       "      <td>50000.000000</td>\n",
       "      <td>85.000000</td>\n",
       "      <td>850.000000</td>\n",
       "      <td>58381.750000</td>\n",
       "    </tr>\n",
       "    <tr>\n",
       "      <th>50%</th>\n",
       "      <td>1000000.0</td>\n",
       "      <td>0.970200</td>\n",
       "      <td>0.420200</td>\n",
       "      <td>2.000000</td>\n",
       "      <td>55000.000000</td>\n",
       "      <td>91.000000</td>\n",
       "      <td>1000.000000</td>\n",
       "      <td>69005.000000</td>\n",
       "    </tr>\n",
       "    <tr>\n",
       "      <th>75%</th>\n",
       "      <td>1000000.0</td>\n",
       "      <td>0.973000</td>\n",
       "      <td>0.422900</td>\n",
       "      <td>2.000000</td>\n",
       "      <td>65000.000000</td>\n",
       "      <td>99.000000</td>\n",
       "      <td>1150.000000</td>\n",
       "      <td>83820.500000</td>\n",
       "    </tr>\n",
       "    <tr>\n",
       "      <th>max</th>\n",
       "      <td>1000000.0</td>\n",
       "      <td>0.988000</td>\n",
       "      <td>0.436000</td>\n",
       "      <td>3.000000</td>\n",
       "      <td>80000.000000</td>\n",
       "      <td>110.000000</td>\n",
       "      <td>1600.000000</td>\n",
       "      <td>127161.000000</td>\n",
       "    </tr>\n",
       "  </tbody>\n",
       "</table>\n",
       "</div>"
      ],
      "text/plain": [
       "        accepted      executed        margin      managers        salary  \\\n",
       "count    14976.0  14976.000000  14976.000000  14976.000000  14976.000000   \n",
       "mean   1000000.0      0.970233      0.420236      2.063168  58765.691774   \n",
       "std          0.0      0.004032      0.003963      0.243273   8282.002985   \n",
       "min    1000000.0      0.954700      0.404200      2.000000  50000.000000   \n",
       "25%    1000000.0      0.967500      0.417600      2.000000  50000.000000   \n",
       "50%    1000000.0      0.970200      0.420200      2.000000  55000.000000   \n",
       "75%    1000000.0      0.973000      0.422900      2.000000  65000.000000   \n",
       "max    1000000.0      0.988000      0.436000      3.000000  80000.000000   \n",
       "\n",
       "             square  square_price         profit  \n",
       "count  14976.000000  14976.000000   14976.000000  \n",
       "mean      92.328926   1020.569578   72465.715345  \n",
       "std        8.677212    187.251635   16787.967084  \n",
       "min       80.000000    800.000000   50001.000000  \n",
       "25%       85.000000    850.000000   58381.750000  \n",
       "50%       91.000000   1000.000000   69005.000000  \n",
       "75%       99.000000   1150.000000   83820.500000  \n",
       "max      110.000000   1600.000000  127161.000000  "
      ]
     },
     "execution_count": 10,
     "metadata": {},
     "output_type": "execute_result"
    }
   ],
   "source": [
    "df.query('profit > 50000').describe()"
   ]
  }
 ],
 "metadata": {
  "kernelspec": {
   "display_name": "Python 3",
   "language": "python",
   "name": "python3"
  },
  "language_info": {
   "codemirror_mode": {
    "name": "ipython",
    "version": 3
   },
   "file_extension": ".py",
   "mimetype": "text/x-python",
   "name": "python",
   "nbconvert_exporter": "python",
   "pygments_lexer": "ipython3",
   "version": "3.8.8"
  }
 },
 "nbformat": 4,
 "nbformat_minor": 5
}
