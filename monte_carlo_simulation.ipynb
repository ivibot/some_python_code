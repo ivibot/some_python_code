{
 "cells": [
  {
   "cell_type": "code",
   "execution_count": 1,
   "id": "5b2f1be3-6f07-4a86-9f69-9613fbe9b706",
   "metadata": {},
   "outputs": [],
   "source": [
    "import numpy as np\n",
    "import pandas as pd\n",
    "\n",
    "import seaborn as sns\n",
    "\n",
    "from tqdm import tqdm"
   ]
  },
  {
   "cell_type": "code",
   "execution_count": 2,
   "id": "4e67d7ad-7bef-48b1-87bd-54e3f15cde06",
   "metadata": {},
   "outputs": [],
   "source": [
    "sns.set_style('whitegrid')"
   ]
  },
  {
   "cell_type": "code",
   "execution_count": 3,
   "id": "0ae722e1-8bd3-4089-bf55-79ab1deeb735",
   "metadata": {},
   "outputs": [],
   "source": [
    "# параметры расчёта\n",
    "accepted = 1000000 # сумма принятых заказов за месяц\n",
    "executed = 0.9600 # средняя исполняемость в процентах от принятых\n",
    "margin = 0.4200 # средняя наценка\n",
    "\n",
    "# количество менеджеров\n",
    "managers_min = 2 # минимум\n",
    "managers_max = 4 # максимум\n",
    "managers_step = 1 # шаг изменения\n",
    "\n",
    "# зарплата одного менеджера\n",
    "salary_min = 50000 # минимум\n",
    "salary_max = 90000 # максиимум\n",
    "salary_step = 5000 # шаг изменения\n",
    "\n",
    "# площадь розничной точки\n",
    "square_min = 80 # минимум\n",
    "square_max = 120 # максиимум\n",
    "square_step = 2 # шаг изменения\n",
    "\n",
    "# цена за квадратный метр\n",
    "square_price_min = 900 # минимум\n",
    "square_price_max = 1800 # максиимум\n",
    "square_price_step = 50 # шаг изменения"
   ]
  },
  {
   "cell_type": "code",
   "execution_count": 4,
   "id": "b7ab88c5-56be-4e1f-9bb4-e563b9e8b7ac",
   "metadata": {},
   "outputs": [
    {
     "name": "stderr",
     "output_type": "stream",
     "text": [
      "100%|███████████████████████████████████| 100000/100000 [32:57<00:00, 50.56it/s]\n"
     ]
    }
   ],
   "source": [
    "df = pd.DataFrame()\n",
    "\n",
    "# интервалы для подбора параметров\n",
    "managers_range = range(managers_min, managers_max+1, managers_step)\n",
    "salary_range = range(salary_min, salary_max+1, salary_step)\n",
    "square_range = range(square_min, square_max+1, square_step)\n",
    "square_price_range = range(square_price_min, square_price_max+1, square_price_step)\n",
    "\n",
    "for i in tqdm(range(100000)):\n",
    "    # определение параметров расчёта\n",
    "    p_executed = 1\n",
    "    while p_executed > 0.99:\n",
    "        p_executed = np.round(np.random.normal(executed, 0.0199 / 5, 1)[0], decimals=4)\n",
    "    p_margin = 1\n",
    "    while p_margin > margin + 0.0199 * 5:\n",
    "        p_margin = np.round(np.random.normal(margin, 0.0199 / 5, 1)[0], decimals=4)\n",
    "    p_managers = np.random.choice(managers_range)\n",
    "    p_salary = np.random.choice(salary_range)\n",
    "    p_square = np.random.choice(square_range)\n",
    "    p_square_price = np.random.choice(square_price_range)\n",
    "\n",
    "    # расчёт прибыли с округлением до рубля\n",
    "    profit = \\\n",
    "        accepted * p_executed * p_margin / (1 + p_margin) - \\\n",
    "        p_managers * p_salary - \\\n",
    "        p_square * p_square_price\n",
    "\n",
    "    profit = np.round(profit, decimals=0)\n",
    "    df = pd.concat([df, pd.DataFrame({'accepted': accepted,\n",
    "                                      'executed': p_executed,\n",
    "                                      'margin': p_margin,\n",
    "                                      'managers': p_managers,\n",
    "                                      'salary': p_salary,\n",
    "                                      'square': p_square,\n",
    "                                      'square_price': p_square_price,\n",
    "                                      'profit': profit}, index=[0])],\n",
    "                   ignore_index=True)\n",
    "    \n",
    "    df['result'] = np.where(df['profit'] > 0, 'прибыль', \n",
    "                            np.where(df['profit'] < 0, 'убыток', 'ноль'))\n",
    "\n",
    "df = df[['accepted', 'executed', 'margin', 'managers', 'salary', 'square', 'square_price', 'profit', 'result']]"
   ]
  },
  {
   "cell_type": "code",
   "execution_count": 5,
   "id": "3c666829-69e0-4d8d-8136-246beda41130",
   "metadata": {},
   "outputs": [
    {
     "data": {
      "text/plain": [
       "убыток     76.1\n",
       "прибыль    23.9\n",
       "ноль        0.0\n",
       "Name: result, dtype: float64"
      ]
     },
     "execution_count": 5,
     "metadata": {},
     "output_type": "execute_result"
    }
   ],
   "source": [
    "df['result'].value_counts(normalize=True).apply(lambda x: np.round(x * 100, decimals=2))"
   ]
  },
  {
   "cell_type": "code",
   "execution_count": 6,
   "id": "c9ec1507-5493-42f9-bf0b-8b146e10c821",
   "metadata": {},
   "outputs": [
    {
     "data": {
      "text/plain": [
       "count    100000.00\n",
       "mean     -61303.76\n",
       "std       76952.31\n",
       "min     -295465.00\n",
       "10%     -169977.10\n",
       "20%     -130324.20\n",
       "30%     -100630.60\n",
       "40%      -76380.00\n",
       "50%      -54575.50\n",
       "60%      -33749.80\n",
       "70%      -13087.20\n",
       "80%        8790.20\n",
       "90%       34507.10\n",
       "max      115739.00\n",
       "Name: profit, dtype: float64"
      ]
     },
     "execution_count": 6,
     "metadata": {},
     "output_type": "execute_result"
    }
   ],
   "source": [
    "df['profit'] \\\n",
    "    .describe(percentiles=np.linspace(10, 90, 9) / 100) \\\n",
    "    .apply(lambda x: np.round(x, decimals=2))"
   ]
  },
  {
   "cell_type": "code",
   "execution_count": 7,
   "id": "b4a7437f-5eb4-44af-a7b3-a9e7a1c5c635",
   "metadata": {},
   "outputs": [
    {
     "data": {
      "image/png": "[encoded data removed]",
      "text/plain": [
       "<Figure size 432x288 with 1 Axes>"
      ]
     },
     "metadata": {},
     "output_type": "display_data"
    }
   ],
   "source": [
    "sns.histplot(df['profit'], stat='probability', binwidth=10000);"
   ]
  },
  {
   "cell_type": "code",
   "execution_count": 8,
   "id": "eddec267-deb9-4d38-91f0-f7f45530b36f",
   "metadata": {},
   "outputs": [],
   "source": [
    "# добавляем столбец группировки по прибыли\n",
    "freq = 10000\n",
    "interval_range = pd.interval_range(start=np.floor(df['profit'].min() / freq) * freq,\n",
    "                                   end=np.ceil(df['profit'].max() / freq) * freq,\n",
    "                                   freq=freq,\n",
    "                                   closed='left')\n",
    "df['profit_interval'] = pd.cut(df['profit'], bins=interval_range)"
   ]
  },
  {
   "cell_type": "code",
   "execution_count": 12,
   "id": "024ffada-f8e3-41f4-8c49-1b625510bc52",
   "metadata": {},
   "outputs": [
    {
     "data": {
      "text/plain": [
       "[-30000.0, -20000.0)    4.952\n",
       "[-40000.0, -30000.0)    4.861\n",
       "[-50000.0, -40000.0)    4.793\n",
       "[-20000.0, -10000.0)    4.752\n",
       "[-60000.0, -50000.0)    4.649\n",
       "[-10000.0, 0.0)         4.647\n",
       "[-70000.0, -60000.0)    4.569\n",
       "[-80000.0, -70000.0)    4.471\n",
       "[0.0, 10000.0)          4.464\n",
       "[10000.0, 20000.0)      4.209\n",
       "Name: profit_interval, dtype: float64"
      ]
     },
     "execution_count": 12,
     "metadata": {},
     "output_type": "execute_result"
    }
   ],
   "source": [
    "df['profit_interval'].value_counts(normalize=True).iloc[:10] * 100"
   ]
  }
 ],
 "metadata": {
  "kernelspec": {
   "display_name": "Python 3 (ipykernel)",
   "language": "python",
   "name": "python3"
  },
  "language_info": {
   "codemirror_mode": {
    "name": "ipython",
    "version": 3
   },
   "file_extension": ".py",
   "mimetype": "text/x-python",
   "name": "python",
   "nbconvert_exporter": "python",
   "pygments_lexer": "ipython3",
   "version": "3.9.10"
  }
 },
 "nbformat": 4,
 "nbformat_minor": 5
}
